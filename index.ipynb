{
 "cells": [
  {
   "cell_type": "markdown",
   "metadata": {},
   "source": [
    "# BINANCE STOCK PRICE PREDICTION"
   ]
  },
  {
   "cell_type": "markdown",
   "metadata": {},
   "source": [
    "## Project Summary"
   ]
  },
  {
   "cell_type": "markdown",
   "metadata": {},
   "source": [
    "## Business Understanding "
   ]
  },
  {
   "cell_type": "markdown",
   "metadata": {},
   "source": [
    "Binance is a leading cryptocurrency exchange and a major player in the digital asset space. Its stock prices or token values are influenced by a variety of factors such as market demand, news, regulations, and macroeconomic conditions. Accurate predictions can help users maximize returns and manage risks.\n",
    "\n",
    "- Key Stakeholders:\n",
    "\n",
    "Retail Traders and Investors: Seeking to optimize their trading strategies.\n",
    "Institutional Investors: Using predictions to manage portfolios and hedge risks.\n",
    "Binance Ecosystem Participants: Interested in understanding market trends.\n",
    "Business Goals:\n",
    "\n",
    "Enable informed trading by predicting short-term price movements.\n",
    "Enhance investment decision-making through trend analysis.\n",
    "Mitigate risks by identifying potential downturns in advance.\n",
    "Technical Goals:\n",
    "\n",
    "Develop a robust machine learning model that accurately predicts price movements.\n",
    "Integrate relevant external data such as market sentiment, trading volumes, and news sentiment.\n",
    "Value Proposition:\n",
    "Providing an accurate and actionable predictive system improves confidence in decision-making, supports profitability for users, and strengthens Binance's position as a transparent and data-driven ecosystem.\n",
    "\n",
    "- Metrics of Success:\n",
    "\n",
    "Prediction Accuracy: High precision in predicting stock or token price changes.\n",
    "Model Interpretability: Ease of understanding key drivers of predictions.\n",
    "ROI Improvement: Demonstrated better returns or reduced risks for users."
   ]
  },
  {
   "cell_type": "markdown",
   "metadata": {},
   "source": [
    "### Objective"
   ]
  },
  {
   "cell_type": "markdown",
   "metadata": {},
   "source": [
    "\n",
    "- To predict the future price movements of Binance's stock or cryptocurrency assets to empower investors and traders with data-driven insights for making informed decisions.\n"
   ]
  },
  {
   "cell_type": "markdown",
   "metadata": {},
   "source": [
    "## Data preparation"
   ]
  },
  {
   "cell_type": "code",
   "execution_count": 23,
   "metadata": {},
   "outputs": [],
   "source": [
    "# Loading the libraries\n",
    "import pandas as pd\n",
    "import seaborn as sns\n",
    "import matplotlib.pyplot as plt\n",
    "from sklearn.ensemble import RandomForestClassifier"
   ]
  },
  {
   "cell_type": "code",
   "execution_count": 24,
   "metadata": {},
   "outputs": [],
   "source": [
    "# loading the dataset\n",
    "df = pd.read_csv(\"bnb.csv\")"
   ]
  },
  {
   "cell_type": "code",
   "execution_count": 25,
   "metadata": {},
   "outputs": [
    {
     "name": "stdout",
     "output_type": "stream",
     "text": [
      "<class 'pandas.core.frame.DataFrame'>\n",
      "RangeIndex: 2650 entries, 0 to 2649\n",
      "Data columns (total 6 columns):\n",
      " #   Column  Non-Null Count  Dtype  \n",
      "---  ------  --------------  -----  \n",
      " 0   ticker  2650 non-null   object \n",
      " 1   date    2650 non-null   object \n",
      " 2   open    2650 non-null   float64\n",
      " 3   high    2650 non-null   float64\n",
      " 4   low     2650 non-null   float64\n",
      " 5   close   2650 non-null   float64\n",
      "dtypes: float64(4), object(2)\n",
      "memory usage: 124.3+ KB\n"
     ]
    }
   ],
   "source": [
    "# Dataset Information\n",
    "df.info()"
   ]
  },
  {
   "cell_type": "code",
   "execution_count": 26,
   "metadata": {},
   "outputs": [
    {
     "data": {
      "text/html": [
       "<div>\n",
       "<style scoped>\n",
       "    .dataframe tbody tr th:only-of-type {\n",
       "        vertical-align: middle;\n",
       "    }\n",
       "\n",
       "    .dataframe tbody tr th {\n",
       "        vertical-align: top;\n",
       "    }\n",
       "\n",
       "    .dataframe thead th {\n",
       "        text-align: right;\n",
       "    }\n",
       "</style>\n",
       "<table border=\"1\" class=\"dataframe\">\n",
       "  <thead>\n",
       "    <tr style=\"text-align: right;\">\n",
       "      <th></th>\n",
       "      <th>open</th>\n",
       "      <th>high</th>\n",
       "      <th>low</th>\n",
       "      <th>close</th>\n",
       "    </tr>\n",
       "  </thead>\n",
       "  <tbody>\n",
       "    <tr>\n",
       "      <th>count</th>\n",
       "      <td>2650.000000</td>\n",
       "      <td>2650.000000</td>\n",
       "      <td>2650.000000</td>\n",
       "      <td>2650.000000</td>\n",
       "    </tr>\n",
       "    <tr>\n",
       "      <th>mean</th>\n",
       "      <td>209.806639</td>\n",
       "      <td>215.701241</td>\n",
       "      <td>203.581398</td>\n",
       "      <td>210.064996</td>\n",
       "    </tr>\n",
       "    <tr>\n",
       "      <th>std</th>\n",
       "      <td>208.019553</td>\n",
       "      <td>213.546993</td>\n",
       "      <td>201.990237</td>\n",
       "      <td>208.179737</td>\n",
       "    </tr>\n",
       "    <tr>\n",
       "      <th>min</th>\n",
       "      <td>0.698600</td>\n",
       "      <td>0.716600</td>\n",
       "      <td>0.648100</td>\n",
       "      <td>0.688200</td>\n",
       "    </tr>\n",
       "    <tr>\n",
       "      <th>25%</th>\n",
       "      <td>15.952500</td>\n",
       "      <td>16.492500</td>\n",
       "      <td>15.422500</td>\n",
       "      <td>15.990000</td>\n",
       "    </tr>\n",
       "    <tr>\n",
       "      <th>50%</th>\n",
       "      <td>216.136000</td>\n",
       "      <td>221.043000</td>\n",
       "      <td>213.329500</td>\n",
       "      <td>216.486000</td>\n",
       "    </tr>\n",
       "    <tr>\n",
       "      <th>75%</th>\n",
       "      <td>334.625000</td>\n",
       "      <td>345.031750</td>\n",
       "      <td>323.743250</td>\n",
       "      <td>335.047500</td>\n",
       "    </tr>\n",
       "    <tr>\n",
       "      <th>max</th>\n",
       "      <td>749.604000</td>\n",
       "      <td>793.907000</td>\n",
       "      <td>728.934000</td>\n",
       "      <td>749.514000</td>\n",
       "    </tr>\n",
       "  </tbody>\n",
       "</table>\n",
       "</div>"
      ],
      "text/plain": [
       "              open         high          low        close\n",
       "count  2650.000000  2650.000000  2650.000000  2650.000000\n",
       "mean    209.806639   215.701241   203.581398   210.064996\n",
       "std     208.019553   213.546993   201.990237   208.179737\n",
       "min       0.698600     0.716600     0.648100     0.688200\n",
       "25%      15.952500    16.492500    15.422500    15.990000\n",
       "50%     216.136000   221.043000   213.329500   216.486000\n",
       "75%     334.625000   345.031750   323.743250   335.047500\n",
       "max     749.604000   793.907000   728.934000   749.514000"
      ]
     },
     "execution_count": 26,
     "metadata": {},
     "output_type": "execute_result"
    }
   ],
   "source": [
    "# Dataset Description\n",
    "df.describe()"
   ]
  },
  {
   "cell_type": "markdown",
   "metadata": {},
   "source": [
    "## Data Preprocessing"
   ]
  },
  {
   "cell_type": "code",
   "execution_count": 27,
   "metadata": {},
   "outputs": [],
   "source": [
    "# Drop Unncessary columns\n",
    "df = df.drop(\"ticker\", axis=1)"
   ]
  },
  {
   "cell_type": "code",
   "execution_count": 28,
   "metadata": {},
   "outputs": [],
   "source": [
    "# Set the date as the index for visualization and machine learning\n",
    "df = df.set_index('date')"
   ]
  },
  {
   "cell_type": "code",
   "execution_count": 29,
   "metadata": {},
   "outputs": [
    {
     "data": {
      "text/plain": [
       "1"
      ]
     },
     "execution_count": 29,
     "metadata": {},
     "output_type": "execute_result"
    }
   ],
   "source": [
    "# Check for duplicates\n",
    "df.duplicated().sum()"
   ]
  },
  {
   "cell_type": "code",
   "execution_count": 30,
   "metadata": {},
   "outputs": [
    {
     "data": {
      "text/plain": [
       "open     0\n",
       "high     0\n",
       "low      0\n",
       "close    0\n",
       "dtype: int64"
      ]
     },
     "execution_count": 30,
     "metadata": {},
     "output_type": "execute_result"
    }
   ],
   "source": [
    "# Check for NaN Values\n",
    "df.isna().sum()"
   ]
  },
  {
   "cell_type": "markdown",
   "metadata": {},
   "source": [
    "## Exploratory Data Analysis"
   ]
  },
  {
   "cell_type": "code",
   "execution_count": 31,
   "metadata": {},
   "outputs": [
    {
     "data": {
      "text/plain": [
       "<Axes: xlabel='date'>"
      ]
     },
     "execution_count": 31,
     "metadata": {},
     "output_type": "execute_result"
    },
    {
     "data": {
      "image/png": "[encoded data removed]",
      "text/plain": [
       "<Figure size 1200x800 with 1 Axes>"
      ]
     },
     "metadata": {},
     "output_type": "display_data"
    }
   ],
   "source": [
    "df.plot.line(y= \"close\", use_index=True, figsize = (12,8))"
   ]
  },
  {
   "cell_type": "markdown",
   "metadata": {},
   "source": [
    "The closing price increased drastically in the year 2020, fell in the following year and gained its highest peak in the year 2024"
   ]
  },
  {
   "cell_type": "markdown",
   "metadata": {},
   "source": [
    "## Feature Engineering"
   ]
  },
  {
   "cell_type": "code",
   "execution_count": 32,
   "metadata": {},
   "outputs": [],
   "source": [
    "# Create a new column to show the closing price of the next day\n",
    "df[\"tomorrow\"] = df[\"close\"].shift(-1)"
   ]
  },
  {
   "cell_type": "code",
   "execution_count": 33,
   "metadata": {},
   "outputs": [],
   "source": [
    "# Create a new column to show whether the closing price increased or not \n",
    "df[\"target\"] = (df[\"tomorrow\"] > df[\"close\"]).astype(int)"
   ]
  },
  {
   "cell_type": "markdown",
   "metadata": {},
   "source": [
    "## Modelling"
   ]
  },
  {
   "cell_type": "code",
   "execution_count": 34,
   "metadata": {},
   "outputs": [],
   "source": [
    "# Loading the modelling libraries\n",
    "from sklearn.model_selection import train_test_split\n",
    "from sklearn.tree import DecisionTreeClassifier\n",
    "from sklearn.ensemble import RandomForestClassifier\n",
    "from xgboost import XGBClassifier\n",
    "from lightgbm import LGBMClassifier\n",
    "from tensorflow.keras.models import Sequential\n",
    "from tensorflow.keras.layers import Dense, LSTM\n",
    "from sklearn.model_selection import GridSearchCV\n",
    "\n",
    "\n",
    "\n",
    "from sklearn.metrics import accuracy_score\n",
    "from sklearn.metrics import classification_report\n",
    "from sklearn.metrics import confusion_matrix"
   ]
  },
  {
   "cell_type": "code",
   "execution_count": 35,
   "metadata": {},
   "outputs": [],
   "source": [
    "x = df.drop([\"tomorrow\", \"target\"], axis=1)\n",
    "y = df[\"target\"]\n",
    "x_train, x_test, y_train, y_test = train_test_split(x, y, test_size=0.2, random_state=42)"
   ]
  },
  {
   "cell_type": "markdown",
   "metadata": {},
   "source": [
    "### Model 1:  Decision Tree"
   ]
  },
  {
   "cell_type": "code",
   "execution_count": 36,
   "metadata": {},
   "outputs": [
    {
     "name": "stdout",
     "output_type": "stream",
     "text": [
      "Decision Tree Accuracy: 0.5,Confusion Matrix: [[129 144]\n",
      " [121 136]]\n"
     ]
    }
   ],
   "source": [
    "dt_model = DecisionTreeClassifier(random_state=42)\n",
    "dt_model.fit(x_train, y_train)\n",
    "y_pred_dt = dt_model.predict(x_test)\n",
    "\n",
    "# Evaluation metrics\n",
    "cm_dt = confusion_matrix(y_test, y_pred_dt)\n",
    "acc_dt = accuracy_score(y_test, y_pred_dt)\n",
    "\n",
    "print(f\"Decision Tree Accuracy: {acc_dt},Confusion Matrix: {cm_dt}\")"
   ]
  },
  {
   "cell_type": "markdown",
   "metadata": {},
   "source": [
    "### Model 2: Random Forest"
   ]
  },
  {
   "cell_type": "code",
   "execution_count": 37,
   "metadata": {},
   "outputs": [
    {
     "name": "stdout",
     "output_type": "stream",
     "text": [
      "Decision Tree Accuracy: 0.49433962264150944,Confusion Matrix: [[131 142]\n",
      " [126 131]]\n"
     ]
    }
   ],
   "source": [
    "rf_model = RandomForestClassifier(random_state=42)\n",
    "rf_model.fit(x_train, y_train)\n",
    "y_pred_rf = rf_model.predict(x_test)\n",
    "\n",
    "# Evaluation metrics\n",
    "cm_rf = confusion_matrix(y_test, y_pred_rf)\n",
    "acc_rf = accuracy_score(y_test, y_pred_rf)\n",
    "\n",
    "print(f\"Decision Tree Accuracy: {acc_rf},Confusion Matrix: {cm_rf}\")"
   ]
  },
  {
   "cell_type": "markdown",
   "metadata": {},
   "source": [
    "### Model 3: Xgboost Classifier"
   ]
  },
  {
   "cell_type": "code",
   "execution_count": 38,
   "metadata": {},
   "outputs": [
    {
     "name": "stdout",
     "output_type": "stream",
     "text": [
      "Decision Tree Accuracy: 0.5226415094339623,Confusion Matrix: [[137 136]\n",
      " [117 140]]\n"
     ]
    }
   ],
   "source": [
    "xg_model = XGBClassifier(random_state=42)\n",
    "xg_model.fit(x_train, y_train)\n",
    "y_pred_xg = xg_model.predict(x_test)\n",
    "\n",
    "# Evaluation metrics\n",
    "cm_xg = confusion_matrix(y_test, y_pred_xg)\n",
    "acc_xg = accuracy_score(y_test, y_pred_xg)\n",
    "\n",
    "print(f\"Decision Tree Accuracy: {acc_xg},Confusion Matrix: {cm_xg}\")"
   ]
  },
  {
   "cell_type": "markdown",
   "metadata": {},
   "source": [
    "### Model 4: lgbmClassifier"
   ]
  },
  {
   "cell_type": "code",
   "execution_count": 39,
   "metadata": {},
   "outputs": [
    {
     "name": "stdout",
     "output_type": "stream",
     "text": [
      "[LightGBM] [Info] Number of positive: 1094, number of negative: 1026\n",
      "[LightGBM] [Info] Auto-choosing row-wise multi-threading, the overhead of testing was 0.001385 seconds.\n",
      "You can set `force_row_wise=true` to remove the overhead.\n",
      "And if memory is not enough, you can set `force_col_wise=true`.\n",
      "[LightGBM] [Info] Total Bins 1020\n",
      "[LightGBM] [Info] Number of data points in the train set: 2120, number of used features: 4\n",
      "[LightGBM] [Info] [binary:BoostFromScore]: pavg=0.516038 -> initscore=0.064173\n",
      "[LightGBM] [Info] Start training from score 0.064173\n",
      "Decision Tree Accuracy: 0.5056603773584906,Confusion Matrix: [[128 145]\n",
      " [117 140]]\n"
     ]
    }
   ],
   "source": [
    "lg_model = LGBMClassifier(random_state=42)\n",
    "lg_model.fit(x_train, y_train)\n",
    "y_pred_lg = lg_model.predict(x_test)\n",
    "\n",
    "# Evaluation metrics\n",
    "cm_lg = confusion_matrix(y_test, y_pred_lg)\n",
    "acc_lg = accuracy_score(y_test, y_pred_lg)\n",
    "\n",
    "print(f\"Decision Tree Accuracy: {acc_lg},Confusion Matrix: {cm_lg}\")"
   ]
  },
  {
   "cell_type": "markdown",
   "metadata": {},
   "source": [
    "### Model 5: Deep Neural Networks"
   ]
  },
  {
   "cell_type": "code",
   "execution_count": 40,
   "metadata": {},
   "outputs": [
    {
     "name": "stderr",
     "output_type": "stream",
     "text": [
      "c:\\Users\\Dave\\anaconda3\\envs\\learn-env\\Lib\\site-packages\\keras\\src\\layers\\core\\dense.py:87: UserWarning: Do not pass an `input_shape`/`input_dim` argument to a layer. When using Sequential models, prefer using an `Input(shape)` object as the first layer in the model instead.\n",
      "  super().__init__(activity_regularizer=activity_regularizer, **kwargs)\n"
     ]
    },
    {
     "name": "stdout",
     "output_type": "stream",
     "text": [
      "Epoch 1/50\n"
     ]
    },
    {
     "name": "stderr",
     "output_type": "stream",
     "text": [
      "c:\\Users\\Dave\\anaconda3\\envs\\learn-env\\Lib\\site-packages\\keras\\src\\ops\\nn.py:545: UserWarning: You are using a softmax over axis -1 of a tensor of shape (None, 1). This axis has size 1. The softmax operation will always return the value 1, which is likely not what you intended. Did you mean to use a sigmoid instead?\n",
      "  warnings.warn(\n",
      "c:\\Users\\Dave\\anaconda3\\envs\\learn-env\\Lib\\site-packages\\keras\\src\\losses\\losses.py:27: SyntaxWarning: In loss categorical_crossentropy, expected y_pred.shape to be (batch_size, num_classes) with num_classes > 1. Received: y_pred.shape=(None, 1). Consider using 'binary_crossentropy' if you only have 2 classes.\n",
      "  return self.fn(y_true, y_pred, **self._fn_kwargs)\n"
     ]
    },
    {
     "name": "stdout",
     "output_type": "stream",
     "text": [
      "\u001b[1m17/17\u001b[0m \u001b[32m━━━━━━━━━━━━━━━━━━━━\u001b[0m\u001b[37m\u001b[0m \u001b[1m5s\u001b[0m 19ms/step - accuracy: 0.5186 - loss: 0.0000e+00 - val_accuracy: 0.4849 - val_loss: 0.0000e+00\n",
      "Epoch 2/50\n",
      "\u001b[1m 1/17\u001b[0m \u001b[32m━\u001b[0m\u001b[37m━━━━━━━━━━━━━━━━━━━\u001b[0m \u001b[1m0s\u001b[0m 33ms/step - accuracy: 0.4609 - loss: 0.0000e+00"
     ]
    },
    {
     "name": "stderr",
     "output_type": "stream",
     "text": [
      "c:\\Users\\Dave\\anaconda3\\envs\\learn-env\\Lib\\site-packages\\keras\\src\\ops\\nn.py:545: UserWarning: You are using a softmax over axis -1 of a tensor of shape (None, 1). This axis has size 1. The softmax operation will always return the value 1, which is likely not what you intended. Did you mean to use a sigmoid instead?\n",
      "  warnings.warn(\n",
      "c:\\Users\\Dave\\anaconda3\\envs\\learn-env\\Lib\\site-packages\\keras\\src\\losses\\losses.py:27: SyntaxWarning: In loss categorical_crossentropy, expected y_pred.shape to be (batch_size, num_classes) with num_classes > 1. Received: y_pred.shape=(None, 1). Consider using 'binary_crossentropy' if you only have 2 classes.\n",
      "  return self.fn(y_true, y_pred, **self._fn_kwargs)\n"
     ]
    },
    {
     "name": "stdout",
     "output_type": "stream",
     "text": [
      "\u001b[1m17/17\u001b[0m \u001b[32m━━━━━━━━━━━━━━━━━━━━\u001b[0m\u001b[37m\u001b[0m \u001b[1m0s\u001b[0m 4ms/step - accuracy: 0.5094 - loss: 0.0000e+00 - val_accuracy: 0.4849 - val_loss: 0.0000e+00\n",
      "Epoch 3/50\n",
      "\u001b[1m17/17\u001b[0m \u001b[32m━━━━━━━━━━━━━━━━━━━━\u001b[0m\u001b[37m\u001b[0m \u001b[1m0s\u001b[0m 4ms/step - accuracy: 0.5146 - loss: 0.0000e+00 - val_accuracy: 0.4849 - val_loss: 0.0000e+00\n",
      "Epoch 4/50\n",
      "\u001b[1m17/17\u001b[0m \u001b[32m━━━━━━━━━━━━━━━━━━━━\u001b[0m\u001b[37m\u001b[0m \u001b[1m0s\u001b[0m 4ms/step - accuracy: 0.5112 - loss: 0.0000e+00 - val_accuracy: 0.4849 - val_loss: 0.0000e+00\n",
      "Epoch 5/50\n",
      "\u001b[1m17/17\u001b[0m \u001b[32m━━━━━━━━━━━━━━━━━━━━\u001b[0m\u001b[37m\u001b[0m \u001b[1m0s\u001b[0m 4ms/step - accuracy: 0.5177 - loss: 0.0000e+00 - val_accuracy: 0.4849 - val_loss: 0.0000e+00\n",
      "Epoch 6/50\n",
      "\u001b[1m17/17\u001b[0m \u001b[32m━━━━━━━━━━━━━━━━━━━━\u001b[0m\u001b[37m\u001b[0m \u001b[1m0s\u001b[0m 4ms/step - accuracy: 0.5240 - loss: 0.0000e+00 - val_accuracy: 0.4849 - val_loss: 0.0000e+00\n",
      "Epoch 7/50\n",
      "\u001b[1m17/17\u001b[0m \u001b[32m━━━━━━━━━━━━━━━━━━━━\u001b[0m\u001b[37m\u001b[0m \u001b[1m0s\u001b[0m 4ms/step - accuracy: 0.5234 - loss: 0.0000e+00 - val_accuracy: 0.4849 - val_loss: 0.0000e+00\n",
      "Epoch 8/50\n",
      "\u001b[1m17/17\u001b[0m \u001b[32m━━━━━━━━━━━━━━━━━━━━\u001b[0m\u001b[37m\u001b[0m \u001b[1m0s\u001b[0m 4ms/step - accuracy: 0.5061 - loss: 0.0000e+00 - val_accuracy: 0.4849 - val_loss: 0.0000e+00\n",
      "Epoch 9/50\n",
      "\u001b[1m17/17\u001b[0m \u001b[32m━━━━━━━━━━━━━━━━━━━━\u001b[0m\u001b[37m\u001b[0m \u001b[1m0s\u001b[0m 4ms/step - accuracy: 0.5250 - loss: 0.0000e+00 - val_accuracy: 0.4849 - val_loss: 0.0000e+00\n",
      "Epoch 10/50\n",
      "\u001b[1m17/17\u001b[0m \u001b[32m━━━━━━━━━━━━━━━━━━━━\u001b[0m\u001b[37m\u001b[0m \u001b[1m0s\u001b[0m 4ms/step - accuracy: 0.5142 - loss: 0.0000e+00 - val_accuracy: 0.4849 - val_loss: 0.0000e+00\n",
      "Epoch 11/50\n",
      "\u001b[1m17/17\u001b[0m \u001b[32m━━━━━━━━━━━━━━━━━━━━\u001b[0m\u001b[37m\u001b[0m \u001b[1m0s\u001b[0m 4ms/step - accuracy: 0.5272 - loss: 0.0000e+00 - val_accuracy: 0.4849 - val_loss: 0.0000e+00\n",
      "Epoch 12/50\n",
      "\u001b[1m17/17\u001b[0m \u001b[32m━━━━━━━━━━━━━━━━━━━━\u001b[0m\u001b[37m\u001b[0m \u001b[1m0s\u001b[0m 4ms/step - accuracy: 0.5236 - loss: 0.0000e+00 - val_accuracy: 0.4849 - val_loss: 0.0000e+00\n",
      "Epoch 13/50\n",
      "\u001b[1m17/17\u001b[0m \u001b[32m━━━━━━━━━━━━━━━━━━━━\u001b[0m\u001b[37m\u001b[0m \u001b[1m0s\u001b[0m 4ms/step - accuracy: 0.5090 - loss: 0.0000e+00 - val_accuracy: 0.4849 - val_loss: 0.0000e+00\n",
      "Epoch 14/50\n",
      "\u001b[1m17/17\u001b[0m \u001b[32m━━━━━━━━━━━━━━━━━━━━\u001b[0m\u001b[37m\u001b[0m \u001b[1m0s\u001b[0m 5ms/step - accuracy: 0.5159 - loss: 0.0000e+00 - val_accuracy: 0.4849 - val_loss: 0.0000e+00\n",
      "Epoch 15/50\n",
      "\u001b[1m17/17\u001b[0m \u001b[32m━━━━━━━━━━━━━━━━━━━━\u001b[0m\u001b[37m\u001b[0m \u001b[1m0s\u001b[0m 5ms/step - accuracy: 0.5027 - loss: 0.0000e+00 - val_accuracy: 0.4849 - val_loss: 0.0000e+00\n",
      "Epoch 16/50\n",
      "\u001b[1m17/17\u001b[0m \u001b[32m━━━━━━━━━━━━━━━━━━━━\u001b[0m\u001b[37m\u001b[0m \u001b[1m0s\u001b[0m 4ms/step - accuracy: 0.5208 - loss: 0.0000e+00 - val_accuracy: 0.4849 - val_loss: 0.0000e+00\n",
      "Epoch 17/50\n",
      "\u001b[1m17/17\u001b[0m \u001b[32m━━━━━━━━━━━━━━━━━━━━\u001b[0m\u001b[37m\u001b[0m \u001b[1m0s\u001b[0m 4ms/step - accuracy: 0.5144 - loss: 0.0000e+00 - val_accuracy: 0.4849 - val_loss: 0.0000e+00\n",
      "Epoch 18/50\n",
      "\u001b[1m17/17\u001b[0m \u001b[32m━━━━━━━━━━━━━━━━━━━━\u001b[0m\u001b[37m\u001b[0m \u001b[1m0s\u001b[0m 5ms/step - accuracy: 0.5170 - loss: 0.0000e+00 - val_accuracy: 0.4849 - val_loss: 0.0000e+00\n",
      "Epoch 19/50\n",
      "\u001b[1m17/17\u001b[0m \u001b[32m━━━━━━━━━━━━━━━━━━━━\u001b[0m\u001b[37m\u001b[0m \u001b[1m0s\u001b[0m 4ms/step - accuracy: 0.5208 - loss: 0.0000e+00 - val_accuracy: 0.4849 - val_loss: 0.0000e+00\n",
      "Epoch 20/50\n",
      "\u001b[1m17/17\u001b[0m \u001b[32m━━━━━━━━━━━━━━━━━━━━\u001b[0m\u001b[37m\u001b[0m \u001b[1m0s\u001b[0m 4ms/step - accuracy: 0.5295 - loss: 0.0000e+00 - val_accuracy: 0.4849 - val_loss: 0.0000e+00\n",
      "Epoch 21/50\n",
      "\u001b[1m17/17\u001b[0m \u001b[32m━━━━━━━━━━━━━━━━━━━━\u001b[0m\u001b[37m\u001b[0m \u001b[1m0s\u001b[0m 6ms/step - accuracy: 0.5068 - loss: 0.0000e+00 - val_accuracy: 0.4849 - val_loss: 0.0000e+00\n",
      "Epoch 22/50\n",
      "\u001b[1m17/17\u001b[0m \u001b[32m━━━━━━━━━━━━━━━━━━━━\u001b[0m\u001b[37m\u001b[0m \u001b[1m0s\u001b[0m 5ms/step - accuracy: 0.5057 - loss: 0.0000e+00 - val_accuracy: 0.4849 - val_loss: 0.0000e+00\n",
      "Epoch 23/50\n",
      "\u001b[1m17/17\u001b[0m \u001b[32m━━━━━━━━━━━━━━━━━━━━\u001b[0m\u001b[37m\u001b[0m \u001b[1m0s\u001b[0m 4ms/step - accuracy: 0.5205 - loss: 0.0000e+00 - val_accuracy: 0.4849 - val_loss: 0.0000e+00\n",
      "Epoch 24/50\n",
      "\u001b[1m17/17\u001b[0m \u001b[32m━━━━━━━━━━━━━━━━━━━━\u001b[0m\u001b[37m\u001b[0m \u001b[1m0s\u001b[0m 4ms/step - accuracy: 0.5224 - loss: 0.0000e+00 - val_accuracy: 0.4849 - val_loss: 0.0000e+00\n",
      "Epoch 25/50\n",
      "\u001b[1m17/17\u001b[0m \u001b[32m━━━━━━━━━━━━━━━━━━━━\u001b[0m\u001b[37m\u001b[0m \u001b[1m0s\u001b[0m 4ms/step - accuracy: 0.5141 - loss: 0.0000e+00 - val_accuracy: 0.4849 - val_loss: 0.0000e+00\n",
      "Epoch 26/50\n",
      "\u001b[1m17/17\u001b[0m \u001b[32m━━━━━━━━━━━━━━━━━━━━\u001b[0m\u001b[37m\u001b[0m \u001b[1m0s\u001b[0m 4ms/step - accuracy: 0.5269 - loss: 0.0000e+00 - val_accuracy: 0.4849 - val_loss: 0.0000e+00\n",
      "Epoch 27/50\n",
      "\u001b[1m17/17\u001b[0m \u001b[32m━━━━━━━━━━━━━━━━━━━━\u001b[0m\u001b[37m\u001b[0m \u001b[1m0s\u001b[0m 4ms/step - accuracy: 0.5181 - loss: 0.0000e+00 - val_accuracy: 0.4849 - val_loss: 0.0000e+00\n",
      "Epoch 28/50\n",
      "\u001b[1m17/17\u001b[0m \u001b[32m━━━━━━━━━━━━━━━━━━━━\u001b[0m\u001b[37m\u001b[0m \u001b[1m0s\u001b[0m 4ms/step - accuracy: 0.5073 - loss: 0.0000e+00 - val_accuracy: 0.4849 - val_loss: 0.0000e+00\n",
      "Epoch 29/50\n",
      "\u001b[1m17/17\u001b[0m \u001b[32m━━━━━━━━━━━━━━━━━━━━\u001b[0m\u001b[37m\u001b[0m \u001b[1m0s\u001b[0m 4ms/step - accuracy: 0.5095 - loss: 0.0000e+00 - val_accuracy: 0.4849 - val_loss: 0.0000e+00\n",
      "Epoch 30/50\n",
      "\u001b[1m17/17\u001b[0m \u001b[32m━━━━━━━━━━━━━━━━━━━━\u001b[0m\u001b[37m\u001b[0m \u001b[1m0s\u001b[0m 7ms/step - accuracy: 0.5075 - loss: 0.0000e+00 - val_accuracy: 0.4849 - val_loss: 0.0000e+00\n",
      "Epoch 31/50\n",
      "\u001b[1m17/17\u001b[0m \u001b[32m━━━━━━━━━━━━━━━━━━━━\u001b[0m\u001b[37m\u001b[0m \u001b[1m0s\u001b[0m 5ms/step - accuracy: 0.5122 - loss: 0.0000e+00 - val_accuracy: 0.4849 - val_loss: 0.0000e+00\n",
      "Epoch 32/50\n",
      "\u001b[1m17/17\u001b[0m \u001b[32m━━━━━━━━━━━━━━━━━━━━\u001b[0m\u001b[37m\u001b[0m \u001b[1m0s\u001b[0m 5ms/step - accuracy: 0.5019 - loss: 0.0000e+00 - val_accuracy: 0.4849 - val_loss: 0.0000e+00\n",
      "Epoch 33/50\n",
      "\u001b[1m17/17\u001b[0m \u001b[32m━━━━━━━━━━━━━━━━━━━━\u001b[0m\u001b[37m\u001b[0m \u001b[1m0s\u001b[0m 4ms/step - accuracy: 0.5199 - loss: 0.0000e+00 - val_accuracy: 0.4849 - val_loss: 0.0000e+00\n",
      "Epoch 34/50\n",
      "\u001b[1m17/17\u001b[0m \u001b[32m━━━━━━━━━━━━━━━━━━━━\u001b[0m\u001b[37m\u001b[0m \u001b[1m0s\u001b[0m 5ms/step - accuracy: 0.5220 - loss: 0.0000e+00 - val_accuracy: 0.4849 - val_loss: 0.0000e+00\n",
      "Epoch 35/50\n",
      "\u001b[1m17/17\u001b[0m \u001b[32m━━━━━━━━━━━━━━━━━━━━\u001b[0m\u001b[37m\u001b[0m \u001b[1m0s\u001b[0m 4ms/step - accuracy: 0.5070 - loss: 0.0000e+00 - val_accuracy: 0.4849 - val_loss: 0.0000e+00\n",
      "Epoch 36/50\n",
      "\u001b[1m17/17\u001b[0m \u001b[32m━━━━━━━━━━━━━━━━━━━━\u001b[0m\u001b[37m\u001b[0m \u001b[1m0s\u001b[0m 4ms/step - accuracy: 0.5108 - loss: 0.0000e+00 - val_accuracy: 0.4849 - val_loss: 0.0000e+00\n",
      "Epoch 37/50\n",
      "\u001b[1m17/17\u001b[0m \u001b[32m━━━━━━━━━━━━━━━━━━━━\u001b[0m\u001b[37m\u001b[0m \u001b[1m0s\u001b[0m 5ms/step - accuracy: 0.5117 - loss: 0.0000e+00 - val_accuracy: 0.4849 - val_loss: 0.0000e+00\n",
      "Epoch 38/50\n",
      "\u001b[1m17/17\u001b[0m \u001b[32m━━━━━━━━━━━━━━━━━━━━\u001b[0m\u001b[37m\u001b[0m \u001b[1m0s\u001b[0m 5ms/step - accuracy: 0.5078 - loss: 0.0000e+00 - val_accuracy: 0.4849 - val_loss: 0.0000e+00\n",
      "Epoch 39/50\n",
      "\u001b[1m17/17\u001b[0m \u001b[32m━━━━━━━━━━━━━━━━━━━━\u001b[0m\u001b[37m\u001b[0m \u001b[1m0s\u001b[0m 6ms/step - accuracy: 0.5016 - loss: 0.0000e+00 - val_accuracy: 0.4849 - val_loss: 0.0000e+00\n",
      "Epoch 40/50\n",
      "\u001b[1m17/17\u001b[0m \u001b[32m━━━━━━━━━━━━━━━━━━━━\u001b[0m\u001b[37m\u001b[0m \u001b[1m0s\u001b[0m 4ms/step - accuracy: 0.5089 - loss: 0.0000e+00 - val_accuracy: 0.4849 - val_loss: 0.0000e+00\n",
      "Epoch 41/50\n",
      "\u001b[1m17/17\u001b[0m \u001b[32m━━━━━━━━━━━━━━━━━━━━\u001b[0m\u001b[37m\u001b[0m \u001b[1m0s\u001b[0m 5ms/step - accuracy: 0.5103 - loss: 0.0000e+00 - val_accuracy: 0.4849 - val_loss: 0.0000e+00\n",
      "Epoch 42/50\n",
      "\u001b[1m17/17\u001b[0m \u001b[32m━━━━━━━━━━━━━━━━━━━━\u001b[0m\u001b[37m\u001b[0m \u001b[1m0s\u001b[0m 5ms/step - accuracy: 0.5075 - loss: 0.0000e+00 - val_accuracy: 0.4849 - val_loss: 0.0000e+00\n",
      "Epoch 43/50\n",
      "\u001b[1m17/17\u001b[0m \u001b[32m━━━━━━━━━━━━━━━━━━━━\u001b[0m\u001b[37m\u001b[0m \u001b[1m0s\u001b[0m 4ms/step - accuracy: 0.5250 - loss: 0.0000e+00 - val_accuracy: 0.4849 - val_loss: 0.0000e+00\n",
      "Epoch 44/50\n",
      "\u001b[1m17/17\u001b[0m \u001b[32m━━━━━━━━━━━━━━━━━━━━\u001b[0m\u001b[37m\u001b[0m \u001b[1m0s\u001b[0m 4ms/step - accuracy: 0.5311 - loss: 0.0000e+00 - val_accuracy: 0.4849 - val_loss: 0.0000e+00\n",
      "Epoch 45/50\n",
      "\u001b[1m17/17\u001b[0m \u001b[32m━━━━━━━━━━━━━━━━━━━━\u001b[0m\u001b[37m\u001b[0m \u001b[1m0s\u001b[0m 5ms/step - accuracy: 0.5038 - loss: 0.0000e+00 - val_accuracy: 0.4849 - val_loss: 0.0000e+00\n",
      "Epoch 46/50\n",
      "\u001b[1m17/17\u001b[0m \u001b[32m━━━━━━━━━━━━━━━━━━━━\u001b[0m\u001b[37m\u001b[0m \u001b[1m0s\u001b[0m 5ms/step - accuracy: 0.5172 - loss: 0.0000e+00 - val_accuracy: 0.4849 - val_loss: 0.0000e+00\n",
      "Epoch 47/50\n",
      "\u001b[1m17/17\u001b[0m \u001b[32m━━━━━━━━━━━━━━━━━━━━\u001b[0m\u001b[37m\u001b[0m \u001b[1m0s\u001b[0m 4ms/step - accuracy: 0.5144 - loss: 0.0000e+00 - val_accuracy: 0.4849 - val_loss: 0.0000e+00\n",
      "Epoch 48/50\n",
      "\u001b[1m17/17\u001b[0m \u001b[32m━━━━━━━━━━━━━━━━━━━━\u001b[0m\u001b[37m\u001b[0m \u001b[1m0s\u001b[0m 4ms/step - accuracy: 0.5085 - loss: 0.0000e+00 - val_accuracy: 0.4849 - val_loss: 0.0000e+00\n",
      "Epoch 49/50\n",
      "\u001b[1m17/17\u001b[0m \u001b[32m━━━━━━━━━━━━━━━━━━━━\u001b[0m\u001b[37m\u001b[0m \u001b[1m0s\u001b[0m 5ms/step - accuracy: 0.5209 - loss: 0.0000e+00 - val_accuracy: 0.4849 - val_loss: 0.0000e+00\n",
      "Epoch 50/50\n",
      "\u001b[1m17/17\u001b[0m \u001b[32m━━━━━━━━━━━━━━━━━━━━\u001b[0m\u001b[37m\u001b[0m \u001b[1m0s\u001b[0m 4ms/step - accuracy: 0.5214 - loss: 0.0000e+00 - val_accuracy: 0.4849 - val_loss: 0.0000e+00\n",
      "\u001b[1m17/17\u001b[0m \u001b[32m━━━━━━━━━━━━━━━━━━━━\u001b[0m\u001b[37m\u001b[0m \u001b[1m0s\u001b[0m 1ms/step - accuracy: 0.4855 - loss: 0.0000e+00 \n",
      "Test Loss: 0.0000, Test Accuracy: 0.4849\n"
     ]
    }
   ],
   "source": [
    "# Define the model architecture\n",
    "dnn_model = Sequential()\n",
    "dnn_model.add(Dense(64, activation='relu', input_shape=(x_train.shape[1],)))\n",
    "dnn_model.add(Dense(32, activation='relu'))\n",
    "dnn_model.add(Dense(1, activation='softmax'))\n",
    "\n",
    "# Compile the model\n",
    "dnn_model.compile(loss='categorical_crossentropy', optimizer='adam', metrics=['accuracy'])\n",
    "\n",
    "# Train the model\n",
    "dnn_model.fit(x_train, y_train, epochs=50, batch_size=128, validation_data=(x_test, y_test))\n",
    "\n",
    "# Evaluate the model\n",
    "loss, acc_dnn = dnn_model.evaluate(x_test, y_test)\n",
    "print(f\"Test Loss: {loss:.4f}, Test Accuracy: {acc_dnn:.4f}\")"
   ]
  },
  {
   "cell_type": "markdown",
   "metadata": {},
   "source": [
    "### Hyperparameter Tuning: XgBoost Classifier"
   ]
  },
  {
   "cell_type": "code",
   "execution_count": 41,
   "metadata": {},
   "outputs": [
    {
     "name": "stdout",
     "output_type": "stream",
     "text": [
      "Fitting 3 folds for each of 144 candidates, totalling 432 fits\n",
      "Best Hyperparameters: {'gamma': 0, 'learning_rate': 0.01, 'max_depth': 3, 'min_child_weight': 1}\n",
      "Test Accuracy: 0.4925\n"
     ]
    },
    {
     "name": "stderr",
     "output_type": "stream",
     "text": [
      "c:\\Users\\Dave\\anaconda3\\envs\\learn-env\\Lib\\site-packages\\numpy\\ma\\core.py:2820: RuntimeWarning: invalid value encountered in cast\n",
      "  _data = np.array(data, dtype=dtype, copy=copy,\n"
     ]
    }
   ],
   "source": [
    "# Define the parameter grid\n",
    "param_grid = {\n",
    "    'learning_rate': [0.01, 0.05, 0.1],  # Smaller learning rates for volatile data\n",
    "    'max_depth': [3, 5, 7, 10],  # Control complexity\n",
    "    #'n_estimators': [100, 200, 500],  # More trees for better performance\n",
    "    #'subsample': [0.6, 0.8, 1.0],  # Reduce overfitting\n",
    "    ##'colsample_bytree': [0.6, 0.8, 1.0],  # Feature sampling\n",
    "    'min_child_weight': [1, 5, 10],  # Handle imbalanced data\n",
    "    'gamma': [0, 0.1, 0.3, 5],  # Regularization for splitting\n",
    "    #'scale_pos_weight': [1, 5, 10]  # Adjust for class imbalance\n",
    "}\n",
    "\n",
    "# Initialize GridSearchCV\n",
    "grid_search = GridSearchCV(\n",
    "    estimator=xg_model,\n",
    "    param_grid=param_grid,\n",
    "    scoring='accuracy',  # Metric to optimize\n",
    "    cv=3,  # 3-fold cross-validation\n",
    "    verbose=1,\n",
    "    n_jobs=-1  # Use all available processors\n",
    ")\n",
    "\n",
    "# Fit the model\n",
    "grid_search.fit(x_train, y_train)\n",
    "\n",
    "# Best hyperparameters\n",
    "print(\"Best Hyperparameters:\", grid_search.best_params_)\n",
    "\n",
    "# Evaluate on the test set\n",
    "best_model = grid_search.best_estimator_\n",
    "y_pred = best_model.predict(x_test)\n",
    "acc_xg_hyper = accuracy_score(y_test, y_pred)\n",
    "print(f\"Test Accuracy: {acc_xg_hyper:.4f}\")"
   ]
  },
  {
   "cell_type": "markdown",
   "metadata": {},
   "source": [
    "## Model Evaluation"
   ]
  },
  {
   "cell_type": "code",
   "execution_count": 63,
   "metadata": {},
   "outputs": [
    {
     "data": {
      "image/png": "[encoded data removed]",
      "text/plain": [
       "<Figure size 1000x600 with 1 Axes>"
      ]
     },
     "metadata": {},
     "output_type": "display_data"
    }
   ],
   "source": [
    "import matplotlib.pyplot as plt\n",
    "\n",
    "# Define the accuracy of each model\n",
    "model_accuracy = {\n",
    "    'Decision Tree': acc_dt,\n",
    "    'Random Forest': acc_rf,\n",
    "    'XGBoost Classifier': acc_xg,\n",
    "    'Deep Neural Network': acc_dnn,\n",
    "    'LightGBM': acc_lg,\n",
    "    'Tuned XGBoost Classifier': acc_xg_hyper\n",
    "}\n",
    "\n",
    "# Create a bar chart\n",
    "plt.figure(figsize=(10, 6))\n",
    "plt.bar(model_accuracy.keys(), model_accuracy.values())\n",
    "\n",
    "# Set the title and labels\n",
    "plt.title('Model Accuracy Comparison')\n",
    "plt.xlabel('Model')\n",
    "plt.ylabel('Accuracy')\n",
    "\n",
    "# Set the lower limit of the y-axis\n",
    "min_value = min(model_accuracy.values())\n",
    "plt.ylim(min_value, 0.55)\n",
    "\n",
    "# Show the plot\n",
    "plt.xticks(rotation=45)\n",
    "plt.tight_layout()\n",
    "\n",
    "plt.show()"
   ]
  },
  {
   "cell_type": "markdown",
   "metadata": {},
   "source": [
    "- The baseline Xgboost classifier had the hightest accuracy"
   ]
  },
  {
   "cell_type": "markdown",
   "metadata": {},
   "source": [
    "### Conclusion and Recommendations\n",
    "\n",
    "The tuned XGBoost model performed worse than the baseline, achieving a lower accuracy. This suggests that the hyperparameter adjustments may not align with the data’s underlying patterns or that the baseline settings captured the problem's structure more effectively.\n",
    "\n",
    "### Ways to Improve:\n",
    "1. **Reassess Hyperparameter Tuning**:\n",
    "   - Broaden the search space and use techniques like Bayesian Optimization for finer adjustments.\n",
    "   - Verify that tuning metrics align with the project goal.\n",
    "\n",
    "2. **Enhance Feature Engineering**:\n",
    "   - Add meaningful features like technical indicators or time-series patterns.\n",
    "   - Remove irrelevant or redundant features.\n",
    "\n",
    "3. **Optimize Data Preprocessing**:\n",
    "   - Address potential class imbalance with oversampling, undersampling, or class weights.\n",
    "   - Ensure features are scaled or transformed appropriately.\n",
    "\n",
    "4. **Experiment with Alternative Models**:\n",
    "   - Try LightGBM, CatBoost, or ensemble methods to compare results.\n",
    "\n",
    "5. **Revisit Baseline Assumptions**:\n",
    "   - Validate the baseline model to ensure it uses all available features effectively.\n",
    "\n",
    "Iterative experimentation and deeper data exploration may help uncover the optimal setup for better performance."
   ]
  },
  {
   "cell_type": "markdown",
   "metadata": {},
   "source": []
  }
 ],
 "metadata": {
  "kernelspec": {
   "display_name": "learn-env",
   "language": "python",
   "name": "python3"
  },
  "language_info": {
   "codemirror_mode": {
    "name": "ipython",
    "version": 3
   },
   "file_extension": ".py",
   "mimetype": "text/x-python",
   "name": "python",
   "nbconvert_exporter": "python",
   "pygments_lexer": "ipython3",
   "version": "3.11.9"
  }
 },
 "nbformat": 4,
 "nbformat_minor": 2
}
